{
 "cells": [
  {
   "cell_type": "code",
   "execution_count": 6,
   "metadata": {},
   "outputs": [
    {
     "name": "stderr",
     "output_type": "stream",
     "text": [
      "Successfully registered model 'random_forest_model'.\n",
      "2025/05/10 16:10:19 INFO mlflow.store.model_registry.abstract_store: Waiting up to 300 seconds for model version to finish creation. Model name: random_forest_model, version 1\n",
      "Created version '1' of model 'random_forest_model'.\n"
     ]
    },
    {
     "name": "stdout",
     "output_type": "stream",
     "text": [
      "\n",
      "Random Forest - Config 1 Results:\n",
      "         age       sex       bmi        bp        s1        s2        s3  \\\n",
      "0  0.045341 -0.044642 -0.006206 -0.015999  0.125019  0.125198  0.019187   \n",
      "1  0.092564 -0.044642  0.036907  0.021872 -0.024960 -0.016658  0.000779   \n",
      "2  0.063504  0.050680 -0.004050 -0.012556  0.103003  0.048790  0.056003   \n",
      "3  0.096197 -0.044642  0.051996  0.079265  0.054845  0.036577 -0.076536   \n",
      "4  0.012648  0.050680 -0.020218 -0.002228  0.038334  0.053174 -0.006584   \n",
      "\n",
      "         s4        s5        s6  actual  predicted  \n",
      "0  0.034309  0.032432 -0.005220   219.0     144.00  \n",
      "1 -0.039493 -0.022517 -0.021788    70.0     171.58  \n",
      "2 -0.002592  0.084492 -0.017646   202.0     150.72  \n",
      "3  0.141322  0.098648  0.061054   230.0     253.71  \n",
      "4  0.034309 -0.005142 -0.009362   111.0     107.19  \n",
      "🏃 View run Random Forest - config 1 at: http://127.0.0.1:8080/#/experiments/246047683366340720/runs/00df06775388410785ab2df4f31043d9\n",
      "🧪 View experiment at: http://127.0.0.1:8080/#/experiments/246047683366340720\n"
     ]
    },
    {
     "name": "stderr",
     "output_type": "stream",
     "text": [
      "Registered model 'random_forest_model' already exists. Creating a new version of this model...\n",
      "2025/05/10 16:10:24 INFO mlflow.store.model_registry.abstract_store: Waiting up to 300 seconds for model version to finish creation. Model name: random_forest_model, version 2\n",
      "Created version '2' of model 'random_forest_model'.\n"
     ]
    },
    {
     "name": "stdout",
     "output_type": "stream",
     "text": [
      "\n",
      "Random Forest - Config 2 Results:\n",
      "         age       sex       bmi        bp        s1        s2        s3  \\\n",
      "0  0.045341 -0.044642 -0.006206 -0.015999  0.125019  0.125198  0.019187   \n",
      "1  0.092564 -0.044642  0.036907  0.021872 -0.024960 -0.016658  0.000779   \n",
      "2  0.063504  0.050680 -0.004050 -0.012556  0.103003  0.048790  0.056003   \n",
      "3  0.096197 -0.044642  0.051996  0.079265  0.054845  0.036577 -0.076536   \n",
      "4  0.012648  0.050680 -0.020218 -0.002228  0.038334  0.053174 -0.006584   \n",
      "\n",
      "         s4        s5        s6  actual  predicted  \n",
      "0  0.034309  0.032432 -0.005220   219.0    142.925  \n",
      "1 -0.039493 -0.022517 -0.021788    70.0    176.095  \n",
      "2 -0.002592  0.084492 -0.017646   202.0    152.285  \n",
      "3  0.141322  0.098648  0.061054   230.0    255.045  \n",
      "4  0.034309 -0.005142 -0.009362   111.0    108.525  \n",
      "🏃 View run Random Forest - config 2 at: http://127.0.0.1:8080/#/experiments/246047683366340720/runs/b0954609fdbb4c6a9d2d6c05d18b2e76\n",
      "🧪 View experiment at: http://127.0.0.1:8080/#/experiments/246047683366340720\n"
     ]
    },
    {
     "name": "stderr",
     "output_type": "stream",
     "text": [
      "Registered model 'random_forest_model' already exists. Creating a new version of this model...\n",
      "2025/05/10 16:10:28 INFO mlflow.store.model_registry.abstract_store: Waiting up to 300 seconds for model version to finish creation. Model name: random_forest_model, version 3\n",
      "Created version '3' of model 'random_forest_model'.\n"
     ]
    },
    {
     "name": "stdout",
     "output_type": "stream",
     "text": [
      "\n",
      "Random Forest - Config 3 Results:\n",
      "         age       sex       bmi        bp        s1        s2        s3  \\\n",
      "0  0.045341 -0.044642 -0.006206 -0.015999  0.125019  0.125198  0.019187   \n",
      "1  0.092564 -0.044642  0.036907  0.021872 -0.024960 -0.016658  0.000779   \n",
      "2  0.063504  0.050680 -0.004050 -0.012556  0.103003  0.048790  0.056003   \n",
      "3  0.096197 -0.044642  0.051996  0.079265  0.054845  0.036577 -0.076536   \n",
      "4  0.012648  0.050680 -0.020218 -0.002228  0.038334  0.053174 -0.006584   \n",
      "\n",
      "         s4        s5        s6  actual   predicted  \n",
      "0  0.034309  0.032432 -0.005220   219.0  141.516667  \n",
      "1 -0.039493 -0.022517 -0.021788    70.0  178.506667  \n",
      "2 -0.002592  0.084492 -0.017646   202.0  154.166667  \n",
      "3  0.141322  0.098648  0.061054   230.0  253.423333  \n",
      "4  0.034309 -0.005142 -0.009362   111.0  109.006667  \n",
      "🏃 View run Random Forest - config 3 at: http://127.0.0.1:8080/#/experiments/246047683366340720/runs/cf1414d55c8444a7a45ff8cffa822b4d\n",
      "🧪 View experiment at: http://127.0.0.1:8080/#/experiments/246047683366340720\n"
     ]
    },
    {
     "name": "stderr",
     "output_type": "stream",
     "text": [
      "/Users/v0a02bg/victoraburtov/plataforma_mlops/.venv/lib/python3.11/site-packages/sklearn/neural_network/_multilayer_perceptron.py:691: ConvergenceWarning: Stochastic Optimizer: Maximum iterations (1000) reached and the optimization hasn't converged yet.\n",
      "  warnings.warn(\n",
      "Successfully registered model 'neural_net_model'.\n",
      "2025/05/10 16:10:33 INFO mlflow.store.model_registry.abstract_store: Waiting up to 300 seconds for model version to finish creation. Model name: neural_net_model, version 1\n",
      "Created version '1' of model 'neural_net_model'.\n"
     ]
    },
    {
     "name": "stdout",
     "output_type": "stream",
     "text": [
      "\n",
      "Neural Net - Config 1 Results:\n",
      "         age       sex       bmi        bp        s1        s2        s3  \\\n",
      "0  0.045341 -0.044642 -0.006206 -0.015999  0.125019  0.125198  0.019187   \n",
      "1  0.092564 -0.044642  0.036907  0.021872 -0.024960 -0.016658  0.000779   \n",
      "2  0.063504  0.050680 -0.004050 -0.012556  0.103003  0.048790  0.056003   \n",
      "3  0.096197 -0.044642  0.051996  0.079265  0.054845  0.036577 -0.076536   \n",
      "4  0.012648  0.050680 -0.020218 -0.002228  0.038334  0.053174 -0.006584   \n",
      "\n",
      "         s4        s5        s6  actual   predicted  \n",
      "0  0.034309  0.032432 -0.005220   219.0  166.551929  \n",
      "1 -0.039493 -0.022517 -0.021788    70.0  166.371107  \n",
      "2 -0.002592  0.084492 -0.017646   202.0  155.461676  \n",
      "3  0.141322  0.098648  0.061054   230.0  266.723910  \n",
      "4  0.034309 -0.005142 -0.009362   111.0  147.721739  \n",
      "🏃 View run Neural Net - config 1 at: http://127.0.0.1:8080/#/experiments/246047683366340720/runs/32e071dfd9c54cb0ae8d34fd85b7973e\n",
      "🧪 View experiment at: http://127.0.0.1:8080/#/experiments/246047683366340720\n"
     ]
    },
    {
     "name": "stderr",
     "output_type": "stream",
     "text": [
      "/Users/v0a02bg/victoraburtov/plataforma_mlops/.venv/lib/python3.11/site-packages/sklearn/neural_network/_multilayer_perceptron.py:691: ConvergenceWarning: Stochastic Optimizer: Maximum iterations (1000) reached and the optimization hasn't converged yet.\n",
      "  warnings.warn(\n",
      "Registered model 'neural_net_model' already exists. Creating a new version of this model...\n",
      "2025/05/10 16:10:37 INFO mlflow.store.model_registry.abstract_store: Waiting up to 300 seconds for model version to finish creation. Model name: neural_net_model, version 2\n",
      "Created version '2' of model 'neural_net_model'.\n"
     ]
    },
    {
     "name": "stdout",
     "output_type": "stream",
     "text": [
      "\n",
      "Neural Net - Config 2 Results:\n",
      "         age       sex       bmi        bp        s1        s2        s3  \\\n",
      "0  0.045341 -0.044642 -0.006206 -0.015999  0.125019  0.125198  0.019187   \n",
      "1  0.092564 -0.044642  0.036907  0.021872 -0.024960 -0.016658  0.000779   \n",
      "2  0.063504  0.050680 -0.004050 -0.012556  0.103003  0.048790  0.056003   \n",
      "3  0.096197 -0.044642  0.051996  0.079265  0.054845  0.036577 -0.076536   \n",
      "4  0.012648  0.050680 -0.020218 -0.002228  0.038334  0.053174 -0.006584   \n",
      "\n",
      "         s4        s5        s6  actual   predicted  \n",
      "0  0.034309  0.032432 -0.005220   219.0  140.992757  \n",
      "1 -0.039493 -0.022517 -0.021788    70.0  179.352835  \n",
      "2 -0.002592  0.084492 -0.017646   202.0  134.142337  \n",
      "3  0.141322  0.098648  0.061054   230.0  304.561636  \n",
      "4  0.034309 -0.005142 -0.009362   111.0  121.202549  \n",
      "🏃 View run Neural Net - config 2 at: http://127.0.0.1:8080/#/experiments/246047683366340720/runs/4d7c923e7e6b42d9bdd00b232bff39cd\n",
      "🧪 View experiment at: http://127.0.0.1:8080/#/experiments/246047683366340720\n"
     ]
    },
    {
     "name": "stderr",
     "output_type": "stream",
     "text": [
      "/Users/v0a02bg/victoraburtov/plataforma_mlops/.venv/lib/python3.11/site-packages/sklearn/neural_network/_multilayer_perceptron.py:691: ConvergenceWarning: Stochastic Optimizer: Maximum iterations (1000) reached and the optimization hasn't converged yet.\n",
      "  warnings.warn(\n",
      "Registered model 'neural_net_model' already exists. Creating a new version of this model...\n",
      "2025/05/10 16:10:41 INFO mlflow.store.model_registry.abstract_store: Waiting up to 300 seconds for model version to finish creation. Model name: neural_net_model, version 3\n",
      "Created version '3' of model 'neural_net_model'.\n"
     ]
    },
    {
     "name": "stdout",
     "output_type": "stream",
     "text": [
      "\n",
      "Neural Net - Config 3 Results:\n",
      "         age       sex       bmi        bp        s1        s2        s3  \\\n",
      "0  0.045341 -0.044642 -0.006206 -0.015999  0.125019  0.125198  0.019187   \n",
      "1  0.092564 -0.044642  0.036907  0.021872 -0.024960 -0.016658  0.000779   \n",
      "2  0.063504  0.050680 -0.004050 -0.012556  0.103003  0.048790  0.056003   \n",
      "3  0.096197 -0.044642  0.051996  0.079265  0.054845  0.036577 -0.076536   \n",
      "4  0.012648  0.050680 -0.020218 -0.002228  0.038334  0.053174 -0.006584   \n",
      "\n",
      "         s4        s5        s6  actual   predicted  \n",
      "0  0.034309  0.032432 -0.005220   219.0  163.429056  \n",
      "1 -0.039493 -0.022517 -0.021788    70.0  167.379925  \n",
      "2 -0.002592  0.084492 -0.017646   202.0  152.478295  \n",
      "3  0.141322  0.098648  0.061054   230.0  272.472093  \n",
      "4  0.034309 -0.005142 -0.009362   111.0  145.114029  \n",
      "🏃 View run Neural Net - config 3 at: http://127.0.0.1:8080/#/experiments/246047683366340720/runs/0a1722b3c14b4dba95fd1ada17e73f46\n",
      "🧪 View experiment at: http://127.0.0.1:8080/#/experiments/246047683366340720\n"
     ]
    },
    {
     "name": "stderr",
     "output_type": "stream",
     "text": [
      "Successfully registered model 'svm_model'.\n",
      "2025/05/10 16:10:45 INFO mlflow.store.model_registry.abstract_store: Waiting up to 300 seconds for model version to finish creation. Model name: svm_model, version 1\n",
      "Created version '1' of model 'svm_model'.\n"
     ]
    },
    {
     "name": "stdout",
     "output_type": "stream",
     "text": [
      "\n",
      "SVM - Config 1 Results:\n",
      "         age       sex       bmi        bp        s1        s2        s3  \\\n",
      "0  0.045341 -0.044642 -0.006206 -0.015999  0.125019  0.125198  0.019187   \n",
      "1  0.092564 -0.044642  0.036907  0.021872 -0.024960 -0.016658  0.000779   \n",
      "2  0.063504  0.050680 -0.004050 -0.012556  0.103003  0.048790  0.056003   \n",
      "3  0.096197 -0.044642  0.051996  0.079265  0.054845  0.036577 -0.076536   \n",
      "4  0.012648  0.050680 -0.020218 -0.002228  0.038334  0.053174 -0.006584   \n",
      "\n",
      "         s4        s5        s6  actual   predicted  \n",
      "0  0.034309  0.032432 -0.005220   219.0  142.266097  \n",
      "1 -0.039493 -0.022517 -0.021788    70.0  142.640087  \n",
      "2 -0.002592  0.084492 -0.017646   202.0  141.737910  \n",
      "3  0.141322  0.098648  0.061054   230.0  152.256808  \n",
      "4  0.034309 -0.005142 -0.009362   111.0  136.790266  \n",
      "🏃 View run SVM - config 1 at: http://127.0.0.1:8080/#/experiments/246047683366340720/runs/92404a2e27a642febb6cc3d720f28403\n",
      "🧪 View experiment at: http://127.0.0.1:8080/#/experiments/246047683366340720\n"
     ]
    },
    {
     "name": "stderr",
     "output_type": "stream",
     "text": [
      "Registered model 'svm_model' already exists. Creating a new version of this model...\n",
      "2025/05/10 16:10:49 INFO mlflow.store.model_registry.abstract_store: Waiting up to 300 seconds for model version to finish creation. Model name: svm_model, version 2\n",
      "Created version '2' of model 'svm_model'.\n"
     ]
    },
    {
     "name": "stdout",
     "output_type": "stream",
     "text": [
      "\n",
      "SVM - Config 2 Results:\n",
      "         age       sex       bmi        bp        s1        s2        s3  \\\n",
      "0  0.045341 -0.044642 -0.006206 -0.015999  0.125019  0.125198  0.019187   \n",
      "1  0.092564 -0.044642  0.036907  0.021872 -0.024960 -0.016658  0.000779   \n",
      "2  0.063504  0.050680 -0.004050 -0.012556  0.103003  0.048790  0.056003   \n",
      "3  0.096197 -0.044642  0.051996  0.079265  0.054845  0.036577 -0.076536   \n",
      "4  0.012648  0.050680 -0.020218 -0.002228  0.038334  0.053174 -0.006584   \n",
      "\n",
      "         s4        s5        s6  actual   predicted  \n",
      "0  0.034309  0.032432 -0.005220   219.0  142.251886  \n",
      "1 -0.039493 -0.022517 -0.021788    70.0  141.497300  \n",
      "2 -0.002592  0.084492 -0.017646   202.0  141.990106  \n",
      "3  0.141322  0.098648  0.061054   230.0  145.044132  \n",
      "4  0.034309 -0.005142 -0.009362   111.0  141.554575  \n",
      "🏃 View run SVM - config 2 at: http://127.0.0.1:8080/#/experiments/246047683366340720/runs/02323ad0a00e4f728457cc74ca2bdef1\n",
      "🧪 View experiment at: http://127.0.0.1:8080/#/experiments/246047683366340720\n"
     ]
    },
    {
     "name": "stderr",
     "output_type": "stream",
     "text": [
      "Registered model 'svm_model' already exists. Creating a new version of this model...\n",
      "2025/05/10 16:10:53 INFO mlflow.store.model_registry.abstract_store: Waiting up to 300 seconds for model version to finish creation. Model name: svm_model, version 3\n",
      "Created version '3' of model 'svm_model'.\n"
     ]
    },
    {
     "name": "stdout",
     "output_type": "stream",
     "text": [
      "\n",
      "SVM - Config 3 Results:\n",
      "         age       sex       bmi        bp        s1        s2        s3  \\\n",
      "0  0.045341 -0.044642 -0.006206 -0.015999  0.125019  0.125198  0.019187   \n",
      "1  0.092564 -0.044642  0.036907  0.021872 -0.024960 -0.016658  0.000779   \n",
      "2  0.063504  0.050680 -0.004050 -0.012556  0.103003  0.048790  0.056003   \n",
      "3  0.096197 -0.044642  0.051996  0.079265  0.054845  0.036577 -0.076536   \n",
      "4  0.012648  0.050680 -0.020218 -0.002228  0.038334  0.053174 -0.006584   \n",
      "\n",
      "         s4        s5        s6  actual   predicted  \n",
      "0  0.034309  0.032432 -0.005220   219.0  144.122444  \n",
      "1 -0.039493 -0.022517 -0.021788    70.0  140.652680  \n",
      "2 -0.002592  0.084492 -0.017646   202.0  142.880619  \n",
      "3  0.141322  0.098648  0.061054   230.0  238.139158  \n",
      "4  0.034309 -0.005142 -0.009362   111.0  139.436370  \n",
      "🏃 View run SVM - config 3 at: http://127.0.0.1:8080/#/experiments/246047683366340720/runs/62b6b910a6734d00a08efd91da0c10b6\n",
      "🧪 View experiment at: http://127.0.0.1:8080/#/experiments/246047683366340720\n"
     ]
    },
    {
     "name": "stderr",
     "output_type": "stream",
     "text": [
      "Successfully registered model 'linear_regression_model'.\n",
      "2025/05/10 16:10:57 INFO mlflow.store.model_registry.abstract_store: Waiting up to 300 seconds for model version to finish creation. Model name: linear_regression_model, version 1\n",
      "Created version '1' of model 'linear_regression_model'.\n"
     ]
    },
    {
     "name": "stdout",
     "output_type": "stream",
     "text": [
      "\n",
      "Linear Regression - Config 1 Results:\n",
      "         age       sex       bmi        bp        s1        s2        s3  \\\n",
      "0  0.045341 -0.044642 -0.006206 -0.015999  0.125019  0.125198  0.019187   \n",
      "1  0.092564 -0.044642  0.036907  0.021872 -0.024960 -0.016658  0.000779   \n",
      "2  0.063504  0.050680 -0.004050 -0.012556  0.103003  0.048790  0.056003   \n",
      "3  0.096197 -0.044642  0.051996  0.079265  0.054845  0.036577 -0.076536   \n",
      "4  0.012648  0.050680 -0.020218 -0.002228  0.038334  0.053174 -0.006584   \n",
      "\n",
      "         s4        s5        s6  actual   predicted  \n",
      "0  0.034309  0.032432 -0.005220   219.0  139.547558  \n",
      "1 -0.039493 -0.022517 -0.021788    70.0  179.517208  \n",
      "2 -0.002592  0.084492 -0.017646   202.0  134.038756  \n",
      "3  0.141322  0.098648  0.061054   230.0  291.417029  \n",
      "4  0.034309 -0.005142 -0.009362   111.0  123.789659  \n",
      "🏃 View run Linear Regression - config 1 at: http://127.0.0.1:8080/#/experiments/246047683366340720/runs/7e5a5df6cd8142c5abb6a84a9902dd3d\n",
      "🧪 View experiment at: http://127.0.0.1:8080/#/experiments/246047683366340720\n"
     ]
    }
   ],
   "source": [
    "import mlflow\n",
    "from mlflow.models import infer_signature\n",
    "import pandas as pd\n",
    "from sklearn import datasets\n",
    "from sklearn.model_selection import train_test_split\n",
    "from sklearn.ensemble import RandomForestRegressor\n",
    "from sklearn.neural_network import MLPRegressor\n",
    "from sklearn.svm import SVR\n",
    "from sklearn.linear_model import LinearRegression\n",
    "from sklearn.metrics import mean_squared_error, mean_absolute_error, r2_score\n",
    "from itertools import product\n",
    "\n",
    "# Load dataset (Diabetes dataset for regression)\n",
    "X, y = datasets.load_diabetes(return_X_y=True)\n",
    "X_train, X_test, y_train, y_test = train_test_split(X, y, test_size=0.2, random_state=42)\n",
    "\n",
    "mlflow.set_tracking_uri(uri=\"http://127.0.0.1:8080\")\n",
    "mlflow.set_experiment(\"MLflow Multi-Model\")\n",
    "\n",
    "# Define parameter grids for each model\n",
    "MODEL_CONFIGS = {\n",
    "    \"Random Forest\": [\n",
    "        {\"n_estimators\": 100, \"random_state\": 42},\n",
    "        {\"n_estimators\": 200, \"random_state\": 42},\n",
    "        {\"n_estimators\": 300, \"random_state\": 42}\n",
    "    ],\n",
    "    \"Neural Net\": [\n",
    "        {\"hidden_layer_sizes\": (100,), \"max_iter\": 1000, \"random_state\": 42},\n",
    "        {\"hidden_layer_sizes\": (50, 50), \"max_iter\": 1000, \"random_state\": 42},\n",
    "        {\"hidden_layer_sizes\": (150,), \"max_iter\": 1000, \"random_state\": 42}\n",
    "    ],\n",
    "    \"SVM\": [\n",
    "        {\"kernel\": 'rbf', \"C\": 1.0},\n",
    "        {\"kernel\": 'linear', \"C\": 1.0},\n",
    "        {\"kernel\": 'poly', \"C\": 0.5}\n",
    "    ],\n",
    "    \"Linear Regression\": [\n",
    "        {}  # No hyperparameters to tune for basic Linear Regression\n",
    "    ]\n",
    "}\n",
    "\n",
    "MODEL_CLASSES = {\n",
    "    \"Random Forest\": RandomForestRegressor,\n",
    "    \"Neural Net\": MLPRegressor,\n",
    "    \"SVM\": SVR,\n",
    "    \"Linear Regression\": LinearRegression\n",
    "}\n",
    "\n",
    "# Iterate over model types and parameter sets\n",
    "for model_name, param_list in MODEL_CONFIGS.items():\n",
    "    for i, params in enumerate(param_list):\n",
    "        with mlflow.start_run(run_name=f\"{model_name} - config {i+1}\"):\n",
    "            model = MODEL_CLASSES[model_name](**params)\n",
    "            model.fit(X_train, y_train)\n",
    "            y_pred = model.predict(X_test)\n",
    "\n",
    "            # Metrics\n",
    "            rmse = mean_squared_error(y_test, y_pred)\n",
    "            mae = mean_absolute_error(y_test, y_pred)\n",
    "            r2 = r2_score(y_test, y_pred)\n",
    "\n",
    "            mlflow.log_param(\"model_name\", model_name)\n",
    "            mlflow.log_params(params)\n",
    "            mlflow.log_metric(\"rmse\", rmse)\n",
    "            mlflow.log_metric(\"mae\", mae)\n",
    "            mlflow.log_metric(\"r2\", r2)\n",
    "            mlflow.set_tag(\"Training Info\", f\"{model_name} config {i+1} on Diabetes dataset\")\n",
    "\n",
    "            signature = infer_signature(X_train, model.predict(X_train))\n",
    "\n",
    "            model_info = mlflow.sklearn.log_model(\n",
    "                sk_model=model,\n",
    "                artifact_path=f\"{model_name.replace(' ', '_').lower()}_model_config_{i+1}\",\n",
    "                signature=signature,\n",
    "                input_example=X_train,\n",
    "                registered_model_name=f\"{model_name.replace(' ', '_').lower()}_model\"\n",
    "            )\n",
    "\n",
    "            # Load model back for predictions (optional)\n",
    "            loaded_model = mlflow.pyfunc.load_model(model_info.model_uri)\n",
    "            predictions = loaded_model.predict(X_test)\n",
    "\n",
    "            result = pd.DataFrame(X_test, columns=datasets.load_diabetes().feature_names)\n",
    "            result[\"actual\"] = y_test\n",
    "            result[\"predicted\"] = predictions\n",
    "            print(f\"\\n{model_name} - Config {i+1} Results:\\n\", result.head())"
   ]
  },
  {
   "cell_type": "code",
   "execution_count": null,
   "metadata": {},
   "outputs": [],
   "source": []
  }
 ],
 "metadata": {
  "kernelspec": {
   "display_name": ".venv",
   "language": "python",
   "name": "python3"
  },
  "language_info": {
   "codemirror_mode": {
    "name": "ipython",
    "version": 3
   },
   "file_extension": ".py",
   "mimetype": "text/x-python",
   "name": "python",
   "nbconvert_exporter": "python",
   "pygments_lexer": "ipython3",
   "version": "3.11.0"
  }
 },
 "nbformat": 4,
 "nbformat_minor": 2
}
